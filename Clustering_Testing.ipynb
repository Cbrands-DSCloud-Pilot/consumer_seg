{
 "cells": [
  {
   "cell_type": "code",
   "execution_count": 1,
   "metadata": {
    "collapsed": false
   },
   "outputs": [],
   "source": [
    "from cluster_GridSearch import cluster_GridSearch\n",
    "import numpy as np\n",
    "from sklearn.cluster import AffinityPropagation, AgglomerativeClustering, Birch, DBSCAN, FeatureAgglomeration, KMeans, MiniBatchKMeans, MeanShift, SpectralClustering\n",
    "from sklearn import metrics\n",
    "from sklearn.cluster import DBSCAN\n",
    "from sklearn import metrics\n",
    "from sklearn.datasets.samples_generator import make_blobs\n",
    "from sklearn.preprocessing import StandardScaler"
   ]
  },
  {
   "cell_type": "code",
   "execution_count": 2,
   "metadata": {
    "collapsed": true
   },
   "outputs": [],
   "source": [
    "centers = [[1, 1], [-1, -1], [1, -1]]\n",
    "X, labels_true = make_blobs(n_samples=750, centers=centers, cluster_std=0.4,\n",
    "                            random_state=0)\n",
    "\n",
    "X = StandardScaler().fit_transform(X)"
   ]
  },
  {
   "cell_type": "code",
   "execution_count": 3,
   "metadata": {
    "collapsed": false
   },
   "outputs": [
    {
     "data": {
      "text/plain": [
       "(750, 2)"
      ]
     },
     "execution_count": 3,
     "metadata": {},
     "output_type": "execute_result"
    }
   ],
   "source": [
    "X.shape"
   ]
  },
  {
   "cell_type": "code",
   "execution_count": 4,
   "metadata": {
    "collapsed": false
   },
   "outputs": [],
   "source": [
    "param = {'KMeans':{'model':KMeans(),\n",
    "              'k':[1,2,3]},\n",
    "    'DBSCAN':{'model':DBSCAN(),\n",
    "              'eps':[0.2,0.3,0.4,0.5], \n",
    "              'min_samples':[5,10,20,40,80]}}\n",
    "perf_metric = {'Silhouette':{'sample_size':100,'random_state':5}}"
   ]
  },
  {
   "cell_type": "code",
   "execution_count": 5,
   "metadata": {
    "collapsed": false
   },
   "outputs": [
    {
     "data": {
      "text/plain": [
       "True"
      ]
     },
     "execution_count": 5,
     "metadata": {},
     "output_type": "execute_result"
    }
   ],
   "source": [
    "perf_metric = {'Silhouette':None}\n",
    "perf_metric['Silhouette'] == None"
   ]
  },
  {
   "cell_type": "code",
   "execution_count": 6,
   "metadata": {
    "collapsed": false,
    "scrolled": true
   },
   "outputs": [
    {
     "name": "stdout",
     "output_type": "stream",
     "text": [
      "Model: DBSCAN\n",
      "Parameters: {'min_samples': 5, 'eps': 0.2}\n",
      "Clusters: 4\n",
      "Silhouette: 0.60012395188\n",
      "\n",
      "Model: DBSCAN\n",
      "Parameters: {'min_samples': 5, 'eps': 0.3}\n",
      "Clusters: 2\n",
      "Silhouette: 0.105531579519\n",
      "\n",
      "Model: DBSCAN\n",
      "Parameters: {'min_samples': 5, 'eps': 0.4}\n",
      "Clusters: 2\n",
      "Silhouette: 0.0247616512079\n",
      "\n",
      "Model: DBSCAN\n",
      "Parameters: {'min_samples': 5, 'eps': 0.5}\n",
      "Clusters: 1\n",
      "Silhouette: nan\n",
      "\n",
      "Model: DBSCAN\n",
      "Parameters: {'min_samples': 10, 'eps': 0.2}\n",
      "Clusters: 4\n",
      "Silhouette: 0.542612238297\n",
      "\n",
      "Model: DBSCAN\n",
      "Parameters: {'min_samples': 10, 'eps': 0.3}\n",
      "Clusters: 4\n",
      "Silhouette: 0.625524764025\n",
      "\n",
      "Model: DBSCAN\n",
      "Parameters: {'min_samples': 10, 'eps': 0.4}\n",
      "Clusters: 2\n",
      "Silhouette: 0.0610947596741\n",
      "\n",
      "Model: DBSCAN\n",
      "Parameters: {'min_samples': 10, 'eps': 0.5}\n",
      "Clusters: 1\n",
      "Silhouette: nan\n",
      "\n",
      "Model: DBSCAN\n",
      "Parameters: {'min_samples': 20, 'eps': 0.2}\n",
      "Clusters: 4\n",
      "Silhouette: 0.304027368453\n",
      "\n",
      "Model: DBSCAN\n",
      "Parameters: {'min_samples': 20, 'eps': 0.3}\n",
      "Clusters: 4\n",
      "Silhouette: 0.595757077322\n",
      "\n",
      "Model: DBSCAN\n",
      "Parameters: {'min_samples': 20, 'eps': 0.4}\n",
      "Clusters: 4\n",
      "Silhouette: 0.631113698361\n",
      "\n",
      "Model: DBSCAN\n",
      "Parameters: {'min_samples': 20, 'eps': 0.5}\n",
      "Clusters: 1\n",
      "Silhouette: nan\n",
      "\n",
      "Model: DBSCAN\n",
      "Parameters: {'min_samples': 40, 'eps': 0.2}\n",
      "Clusters: 2\n",
      "Silhouette: 0.0332549024485\n",
      "\n",
      "Model: DBSCAN\n",
      "Parameters: {'min_samples': 40, 'eps': 0.3}\n",
      "Clusters: 4\n",
      "Silhouette: 0.493890607876\n",
      "\n",
      "Model: DBSCAN\n",
      "Parameters: {'min_samples': 40, 'eps': 0.4}\n",
      "Clusters: 4\n",
      "Silhouette: 0.613405823019\n",
      "\n",
      "Model: DBSCAN\n",
      "Parameters: {'min_samples': 40, 'eps': 0.5}\n",
      "Clusters: 4\n",
      "Silhouette: 0.637447771087\n",
      "\n",
      "Model: DBSCAN\n",
      "Parameters: {'min_samples': 80, 'eps': 0.2}\n",
      "Clusters: 1\n",
      "Silhouette: nan\n",
      "\n",
      "Model: DBSCAN\n",
      "Parameters: {'min_samples': 80, 'eps': 0.3}\n",
      "Clusters: 1\n",
      "Silhouette: nan\n",
      "\n",
      "Model: DBSCAN\n",
      "Parameters: {'min_samples': 80, 'eps': 0.4}\n",
      "Clusters: 4\n",
      "Silhouette: 0.500706322\n",
      "\n",
      "Model: DBSCAN\n",
      "Parameters: {'min_samples': 80, 'eps': 0.5}\n",
      "Clusters: 4\n",
      "Silhouette: 0.617013474104\n",
      "\n",
      "Model: KMeans\n",
      "Parameters: {'k': 1}\n",
      "Clusters: 8\n",
      "Silhouette: 0.348536417859\n",
      "\n",
      "Model: KMeans\n",
      "Parameters: {'k': 2}\n",
      "Clusters: 8\n",
      "Silhouette: 0.350341861995\n",
      "\n",
      "Model: KMeans\n",
      "Parameters: {'k': 3}\n",
      "Clusters: 8\n",
      "Silhouette: 0.345534951443\n",
      "\n",
      "OPTIMAL MODEL\n",
      "Model: DBSCAN\n",
      "Parameters: {'min_samples': 40, 'eps': 0.5}\n",
      "Clusters: 4\n",
      "Silhouette: 0.637447771087\n"
     ]
    }
   ],
   "source": [
    "opt_model = cluster_GridSearch(X,param,verbose = True)"
   ]
  }
 ],
 "metadata": {
  "anaconda-cloud": {},
  "kernelspec": {
   "display_name": "Python [conda root]",
   "language": "python",
   "name": "conda-root-py"
  },
  "language_info": {
   "codemirror_mode": {
    "name": "ipython",
    "version": 2
   },
   "file_extension": ".py",
   "mimetype": "text/x-python",
   "name": "python",
   "nbconvert_exporter": "python",
   "pygments_lexer": "ipython2",
   "version": "2.7.12"
  }
 },
 "nbformat": 4,
 "nbformat_minor": 2
}
